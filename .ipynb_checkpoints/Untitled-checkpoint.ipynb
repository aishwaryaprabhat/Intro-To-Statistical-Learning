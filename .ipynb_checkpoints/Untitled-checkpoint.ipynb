{
 "cells": [
  {
   "cell_type": "markdown",
   "metadata": {},
   "source": [
    "## Basic Commands"
   ]
  },
  {
   "cell_type": "markdown",
   "metadata": {},
   "source": [
    "Concatenate and assign"
   ]
  },
  {
   "cell_type": "code",
   "execution_count": 5,
   "metadata": {},
   "outputs": [],
   "source": [
    "x <- c(1,3,2,5)"
   ]
  },
  {
   "cell_type": "code",
   "execution_count": 10,
   "metadata": {},
   "outputs": [],
   "source": [
    "x = c(1,3,2)"
   ]
  },
  {
   "cell_type": "code",
   "execution_count": 11,
   "metadata": {},
   "outputs": [],
   "source": [
    "y = c(1, 4, 3)"
   ]
  },
  {
   "cell_type": "code",
   "execution_count": 12,
   "metadata": {},
   "outputs": [
    {
     "data": {
      "text/html": [
       "3"
      ],
      "text/latex": [
       "3"
      ],
      "text/markdown": [
       "3"
      ],
      "text/plain": [
       "[1] 3"
      ]
     },
     "metadata": {},
     "output_type": "display_data"
    }
   ],
   "source": [
    "length(x)"
   ]
  },
  {
   "cell_type": "code",
   "execution_count": 13,
   "metadata": {},
   "outputs": [
    {
     "data": {
      "text/html": [
       "<ol class=list-inline>\n",
       "\t<li>2</li>\n",
       "\t<li>7</li>\n",
       "\t<li>5</li>\n",
       "</ol>\n"
      ],
      "text/latex": [
       "\\begin{enumerate*}\n",
       "\\item 2\n",
       "\\item 7\n",
       "\\item 5\n",
       "\\end{enumerate*}\n"
      ],
      "text/markdown": [
       "1. 2\n",
       "2. 7\n",
       "3. 5\n",
       "\n",
       "\n"
      ],
      "text/plain": [
       "[1] 2 7 5"
      ]
     },
     "metadata": {},
     "output_type": "display_data"
    }
   ],
   "source": [
    "x+y"
   ]
  },
  {
   "cell_type": "markdown",
   "metadata": {},
   "source": [
    "List all objects"
   ]
  },
  {
   "cell_type": "code",
   "execution_count": 14,
   "metadata": {},
   "outputs": [
    {
     "data": {
      "text/html": [
       "<ol class=list-inline>\n",
       "\t<li>'x'</li>\n",
       "\t<li>'y'</li>\n",
       "</ol>\n"
      ],
      "text/latex": [
       "\\begin{enumerate*}\n",
       "\\item 'x'\n",
       "\\item 'y'\n",
       "\\end{enumerate*}\n"
      ],
      "text/markdown": [
       "1. 'x'\n",
       "2. 'y'\n",
       "\n",
       "\n"
      ],
      "text/plain": [
       "[1] \"x\" \"y\""
      ]
     },
     "metadata": {},
     "output_type": "display_data"
    }
   ],
   "source": [
    "ls()"
   ]
  },
  {
   "cell_type": "markdown",
   "metadata": {},
   "source": [
    "Remove all objects"
   ]
  },
  {
   "cell_type": "code",
   "execution_count": 15,
   "metadata": {},
   "outputs": [],
   "source": [
    "rm(list=ls())"
   ]
  },
  {
   "cell_type": "markdown",
   "metadata": {},
   "source": [
    "Create a matrix of numbers"
   ]
  },
  {
   "cell_type": "code",
   "execution_count": 17,
   "metadata": {},
   "outputs": [],
   "source": [
    "?matrix"
   ]
  },
  {
   "cell_type": "code",
   "execution_count": 18,
   "metadata": {},
   "outputs": [],
   "source": [
    "x = matrix(data=c(1,2,3,4), nrow=2, ncol=2)"
   ]
  },
  {
   "cell_type": "code",
   "execution_count": 19,
   "metadata": {},
   "outputs": [
    {
     "data": {
      "text/html": [
       "<table>\n",
       "<tbody>\n",
       "\t<tr><td>1</td><td>3</td></tr>\n",
       "\t<tr><td>2</td><td>4</td></tr>\n",
       "</tbody>\n",
       "</table>\n"
      ],
      "text/latex": [
       "\\begin{tabular}{ll}\n",
       "\t 1 & 3\\\\\n",
       "\t 2 & 4\\\\\n",
       "\\end{tabular}\n"
      ],
      "text/markdown": [
       "\n",
       "| 1 | 3 |\n",
       "| 2 | 4 |\n",
       "\n"
      ],
      "text/plain": [
       "     [,1] [,2]\n",
       "[1,] 1    3   \n",
       "[2,] 2    4   "
      ]
     },
     "metadata": {},
     "output_type": "display_data"
    }
   ],
   "source": [
    "x"
   ]
  },
  {
   "cell_type": "markdown",
   "metadata": {},
   "source": [
    "Populating matrix by row"
   ]
  },
  {
   "cell_type": "code",
   "execution_count": 20,
   "metadata": {},
   "outputs": [
    {
     "data": {
      "text/html": [
       "<table>\n",
       "<tbody>\n",
       "\t<tr><td>1</td><td>2</td></tr>\n",
       "\t<tr><td>3</td><td>4</td></tr>\n",
       "</tbody>\n",
       "</table>\n"
      ],
      "text/latex": [
       "\\begin{tabular}{ll}\n",
       "\t 1 & 2\\\\\n",
       "\t 3 & 4\\\\\n",
       "\\end{tabular}\n"
      ],
      "text/markdown": [
       "\n",
       "| 1 | 2 |\n",
       "| 3 | 4 |\n",
       "\n"
      ],
      "text/plain": [
       "     [,1] [,2]\n",
       "[1,] 1    2   \n",
       "[2,] 3    4   "
      ]
     },
     "metadata": {},
     "output_type": "display_data"
    }
   ],
   "source": [
    "matrix(c(1,2,3,4), 2,2, byrow = TRUE)"
   ]
  },
  {
   "cell_type": "markdown",
   "metadata": {},
   "source": [
    "Square root on a matrix"
   ]
  },
  {
   "cell_type": "code",
   "execution_count": 21,
   "metadata": {},
   "outputs": [
    {
     "data": {
      "text/html": [
       "<table>\n",
       "<tbody>\n",
       "\t<tr><td>1.000000</td><td>1.732051</td></tr>\n",
       "\t<tr><td>1.414214</td><td>2.000000</td></tr>\n",
       "</tbody>\n",
       "</table>\n"
      ],
      "text/latex": [
       "\\begin{tabular}{ll}\n",
       "\t 1.000000 & 1.732051\\\\\n",
       "\t 1.414214 & 2.000000\\\\\n",
       "\\end{tabular}\n"
      ],
      "text/markdown": [
       "\n",
       "| 1.000000 | 1.732051 |\n",
       "| 1.414214 | 2.000000 |\n",
       "\n"
      ],
      "text/plain": [
       "     [,1]     [,2]    \n",
       "[1,] 1.000000 1.732051\n",
       "[2,] 1.414214 2.000000"
      ]
     },
     "metadata": {},
     "output_type": "display_data"
    }
   ],
   "source": [
    "sqrt(x)"
   ]
  },
  {
   "cell_type": "markdown",
   "metadata": {},
   "source": [
    "Generate a vector of random variables"
   ]
  },
  {
   "cell_type": "code",
   "execution_count": 22,
   "metadata": {},
   "outputs": [
    {
     "data": {
      "text/html": [
       "<ol class=list-inline>\n",
       "\t<li>0.82386153518594</li>\n",
       "\t<li>0.391133033293595</li>\n",
       "\t<li>-0.140108868073659</li>\n",
       "\t<li>0.804809590570498</li>\n",
       "\t<li>-0.186771740422791</li>\n",
       "\t<li>0.261714551984286</li>\n",
       "\t<li>0.431910860446298</li>\n",
       "\t<li>1.50734848898176</li>\n",
       "\t<li>-3.14735706778527</li>\n",
       "\t<li>-2.80868156668228</li>\n",
       "\t<li>1.24299992857292</li>\n",
       "\t<li>-0.137784518587701</li>\n",
       "\t<li>0.199499791674661</li>\n",
       "\t<li>0.86914844999961</li>\n",
       "\t<li>-0.531319608895074</li>\n",
       "\t<li>-0.0384597677895588</li>\n",
       "\t<li>0.377959592183325</li>\n",
       "\t<li>0.703391238631983</li>\n",
       "\t<li>0.740540446207124</li>\n",
       "\t<li>-1.39979813564034</li>\n",
       "\t<li>0.674904867430942</li>\n",
       "\t<li>2.0204451035013</li>\n",
       "\t<li>-0.48181907715367</li>\n",
       "\t<li>2.03924190119598</li>\n",
       "\t<li>-0.0481346823547293</li>\n",
       "\t<li>-0.449335460666179</li>\n",
       "\t<li>0.162522741000817</li>\n",
       "\t<li>0.940757082619121</li>\n",
       "\t<li>-0.828256822667081</li>\n",
       "\t<li>-0.0217377172709465</li>\n",
       "\t<li>0.241681014684502</li>\n",
       "\t<li>0.101551256533398</li>\n",
       "\t<li>-1.89827453668295</li>\n",
       "\t<li>1.04006455053472</li>\n",
       "\t<li>-0.932966434410194</li>\n",
       "\t<li>-0.469798203004569</li>\n",
       "\t<li>1.41364423530829</li>\n",
       "\t<li>0.0448184285147428</li>\n",
       "\t<li>1.29396433296921</li>\n",
       "\t<li>0.540471718474265</li>\n",
       "\t<li>0.016845521079781</li>\n",
       "\t<li>0.404980682373086</li>\n",
       "\t<li>1.03233610707376</li>\n",
       "\t<li>-0.975127069523168</li>\n",
       "\t<li>-0.617420304191855</li>\n",
       "\t<li>0.797369856624313</li>\n",
       "\t<li>-1.67679624553572</li>\n",
       "\t<li>1.46050079665794</li>\n",
       "\t<li>0.345069566534328</li>\n",
       "\t<li>0.964569604221472</li>\n",
       "</ol>\n"
      ],
      "text/latex": [
       "\\begin{enumerate*}\n",
       "\\item 0.82386153518594\n",
       "\\item 0.391133033293595\n",
       "\\item -0.140108868073659\n",
       "\\item 0.804809590570498\n",
       "\\item -0.186771740422791\n",
       "\\item 0.261714551984286\n",
       "\\item 0.431910860446298\n",
       "\\item 1.50734848898176\n",
       "\\item -3.14735706778527\n",
       "\\item -2.80868156668228\n",
       "\\item 1.24299992857292\n",
       "\\item -0.137784518587701\n",
       "\\item 0.199499791674661\n",
       "\\item 0.86914844999961\n",
       "\\item -0.531319608895074\n",
       "\\item -0.0384597677895588\n",
       "\\item 0.377959592183325\n",
       "\\item 0.703391238631983\n",
       "\\item 0.740540446207124\n",
       "\\item -1.39979813564034\n",
       "\\item 0.674904867430942\n",
       "\\item 2.0204451035013\n",
       "\\item -0.48181907715367\n",
       "\\item 2.03924190119598\n",
       "\\item -0.0481346823547293\n",
       "\\item -0.449335460666179\n",
       "\\item 0.162522741000817\n",
       "\\item 0.940757082619121\n",
       "\\item -0.828256822667081\n",
       "\\item -0.0217377172709465\n",
       "\\item 0.241681014684502\n",
       "\\item 0.101551256533398\n",
       "\\item -1.89827453668295\n",
       "\\item 1.04006455053472\n",
       "\\item -0.932966434410194\n",
       "\\item -0.469798203004569\n",
       "\\item 1.41364423530829\n",
       "\\item 0.0448184285147428\n",
       "\\item 1.29396433296921\n",
       "\\item 0.540471718474265\n",
       "\\item 0.016845521079781\n",
       "\\item 0.404980682373086\n",
       "\\item 1.03233610707376\n",
       "\\item -0.975127069523168\n",
       "\\item -0.617420304191855\n",
       "\\item 0.797369856624313\n",
       "\\item -1.67679624553572\n",
       "\\item 1.46050079665794\n",
       "\\item 0.345069566534328\n",
       "\\item 0.964569604221472\n",
       "\\end{enumerate*}\n"
      ],
      "text/markdown": [
       "1. 0.82386153518594\n",
       "2. 0.391133033293595\n",
       "3. -0.140108868073659\n",
       "4. 0.804809590570498\n",
       "5. -0.186771740422791\n",
       "6. 0.261714551984286\n",
       "7. 0.431910860446298\n",
       "8. 1.50734848898176\n",
       "9. -3.14735706778527\n",
       "10. -2.80868156668228\n",
       "11. 1.24299992857292\n",
       "12. -0.137784518587701\n",
       "13. 0.199499791674661\n",
       "14. 0.86914844999961\n",
       "15. -0.531319608895074\n",
       "16. -0.0384597677895588\n",
       "17. 0.377959592183325\n",
       "18. 0.703391238631983\n",
       "19. 0.740540446207124\n",
       "20. -1.39979813564034\n",
       "21. 0.674904867430942\n",
       "22. 2.0204451035013\n",
       "23. -0.48181907715367\n",
       "24. 2.03924190119598\n",
       "25. -0.0481346823547293\n",
       "26. -0.449335460666179\n",
       "27. 0.162522741000817\n",
       "28. 0.940757082619121\n",
       "29. -0.828256822667081\n",
       "30. -0.0217377172709465\n",
       "31. 0.241681014684502\n",
       "32. 0.101551256533398\n",
       "33. -1.89827453668295\n",
       "34. 1.04006455053472\n",
       "35. -0.932966434410194\n",
       "36. -0.469798203004569\n",
       "37. 1.41364423530829\n",
       "38. 0.0448184285147428\n",
       "39. 1.29396433296921\n",
       "40. 0.540471718474265\n",
       "41. 0.016845521079781\n",
       "42. 0.404980682373086\n",
       "43. 1.03233610707376\n",
       "44. -0.975127069523168\n",
       "45. -0.617420304191855\n",
       "46. 0.797369856624313\n",
       "47. -1.67679624553572\n",
       "48. 1.46050079665794\n",
       "49. 0.345069566534328\n",
       "50. 0.964569604221472\n",
       "\n",
       "\n"
      ],
      "text/plain": [
       " [1]  0.82386154  0.39113303 -0.14010887  0.80480959 -0.18677174  0.26171455\n",
       " [7]  0.43191086  1.50734849 -3.14735707 -2.80868157  1.24299993 -0.13778452\n",
       "[13]  0.19949979  0.86914845 -0.53131961 -0.03845977  0.37795959  0.70339124\n",
       "[19]  0.74054045 -1.39979814  0.67490487  2.02044510 -0.48181908  2.03924190\n",
       "[25] -0.04813468 -0.44933546  0.16252274  0.94075708 -0.82825682 -0.02173772\n",
       "[31]  0.24168101  0.10155126 -1.89827454  1.04006455 -0.93296643 -0.46979820\n",
       "[37]  1.41364424  0.04481843  1.29396433  0.54047172  0.01684552  0.40498068\n",
       "[43]  1.03233611 -0.97512707 -0.61742030  0.79736986 -1.67679625  1.46050080\n",
       "[49]  0.34506957  0.96456960"
      ]
     },
     "metadata": {},
     "output_type": "display_data"
    }
   ],
   "source": [
    "x = rnorm(50)\n",
    "x"
   ]
  },
  {
   "cell_type": "code",
   "execution_count": 27,
   "metadata": {},
   "outputs": [
    {
     "data": {
      "text/html": [
       "<ol class=list-inline>\n",
       "\t<li>50.7562828430584</li>\n",
       "\t<li>50.4069993432862</li>\n",
       "\t<li>50.0912155287239</li>\n",
       "\t<li>50.7392509418306</li>\n",
       "\t<li>49.6745062676747</li>\n",
       "\t<li>50.4597947843951</li>\n",
       "\t<li>50.5626316954747</li>\n",
       "\t<li>51.5412628018985</li>\n",
       "\t<li>47.0298525391761</li>\n",
       "\t<li>47.1580506266839</li>\n",
       "\t<li>51.2776587900413</li>\n",
       "\t<li>50.104236930465</li>\n",
       "\t<li>50.046999257998</li>\n",
       "\t<li>50.985162478575</li>\n",
       "\t<li>49.4069886524979</li>\n",
       "\t<li>49.912898124851</li>\n",
       "\t<li>50.4029115090401</li>\n",
       "\t<li>50.5187450928597</li>\n",
       "\t<li>50.6989540303071</li>\n",
       "\t<li>48.6117316168371</li>\n",
       "\t<li>50.6639836613227</li>\n",
       "\t<li>51.9366803885523</li>\n",
       "\t<li>49.4410925164894</li>\n",
       "\t<li>52.122844936797</li>\n",
       "\t<li>49.8778167091214</li>\n",
       "\t<li>49.7157694076799</li>\n",
       "\t<li>49.9888799490182</li>\n",
       "\t<li>50.9435530190026</li>\n",
       "\t<li>49.3023042887095</li>\n",
       "\t<li>50.004244304972</li>\n",
       "\t<li>50.3279431048301</li>\n",
       "\t<li>50.1057400600769</li>\n",
       "\t<li>47.9627646304421</li>\n",
       "\t<li>51.0297309328888</li>\n",
       "\t<li>48.9843342379004</li>\n",
       "\t<li>49.729574439005</li>\n",
       "\t<li>51.523585218763</li>\n",
       "\t<li>49.9034063992867</li>\n",
       "\t<li>51.2377997035514</li>\n",
       "\t<li>50.4076889149759</li>\n",
       "\t<li>49.973097761873</li>\n",
       "\t<li>50.5902949568141</li>\n",
       "\t<li>51.2337944047764</li>\n",
       "\t<li>49.0564738653674</li>\n",
       "\t<li>49.2754890863991</li>\n",
       "\t<li>50.9692802383633</li>\n",
       "\t<li>48.1346394119305</li>\n",
       "\t<li>51.5007833995548</li>\n",
       "\t<li>50.3532543608435</li>\n",
       "\t<li>51.2355080864683</li>\n",
       "</ol>\n"
      ],
      "text/latex": [
       "\\begin{enumerate*}\n",
       "\\item 50.7562828430584\n",
       "\\item 50.4069993432862\n",
       "\\item 50.0912155287239\n",
       "\\item 50.7392509418306\n",
       "\\item 49.6745062676747\n",
       "\\item 50.4597947843951\n",
       "\\item 50.5626316954747\n",
       "\\item 51.5412628018985\n",
       "\\item 47.0298525391761\n",
       "\\item 47.1580506266839\n",
       "\\item 51.2776587900413\n",
       "\\item 50.104236930465\n",
       "\\item 50.046999257998\n",
       "\\item 50.985162478575\n",
       "\\item 49.4069886524979\n",
       "\\item 49.912898124851\n",
       "\\item 50.4029115090401\n",
       "\\item 50.5187450928597\n",
       "\\item 50.6989540303071\n",
       "\\item 48.6117316168371\n",
       "\\item 50.6639836613227\n",
       "\\item 51.9366803885523\n",
       "\\item 49.4410925164894\n",
       "\\item 52.122844936797\n",
       "\\item 49.8778167091214\n",
       "\\item 49.7157694076799\n",
       "\\item 49.9888799490182\n",
       "\\item 50.9435530190026\n",
       "\\item 49.3023042887095\n",
       "\\item 50.004244304972\n",
       "\\item 50.3279431048301\n",
       "\\item 50.1057400600769\n",
       "\\item 47.9627646304421\n",
       "\\item 51.0297309328888\n",
       "\\item 48.9843342379004\n",
       "\\item 49.729574439005\n",
       "\\item 51.523585218763\n",
       "\\item 49.9034063992867\n",
       "\\item 51.2377997035514\n",
       "\\item 50.4076889149759\n",
       "\\item 49.973097761873\n",
       "\\item 50.5902949568141\n",
       "\\item 51.2337944047764\n",
       "\\item 49.0564738653674\n",
       "\\item 49.2754890863991\n",
       "\\item 50.9692802383633\n",
       "\\item 48.1346394119305\n",
       "\\item 51.5007833995548\n",
       "\\item 50.3532543608435\n",
       "\\item 51.2355080864683\n",
       "\\end{enumerate*}\n"
      ],
      "text/markdown": [
       "1. 50.7562828430584\n",
       "2. 50.4069993432862\n",
       "3. 50.0912155287239\n",
       "4. 50.7392509418306\n",
       "5. 49.6745062676747\n",
       "6. 50.4597947843951\n",
       "7. 50.5626316954747\n",
       "8. 51.5412628018985\n",
       "9. 47.0298525391761\n",
       "10. 47.1580506266839\n",
       "11. 51.2776587900413\n",
       "12. 50.104236930465\n",
       "13. 50.046999257998\n",
       "14. 50.985162478575\n",
       "15. 49.4069886524979\n",
       "16. 49.912898124851\n",
       "17. 50.4029115090401\n",
       "18. 50.5187450928597\n",
       "19. 50.6989540303071\n",
       "20. 48.6117316168371\n",
       "21. 50.6639836613227\n",
       "22. 51.9366803885523\n",
       "23. 49.4410925164894\n",
       "24. 52.122844936797\n",
       "25. 49.8778167091214\n",
       "26. 49.7157694076799\n",
       "27. 49.9888799490182\n",
       "28. 50.9435530190026\n",
       "29. 49.3023042887095\n",
       "30. 50.004244304972\n",
       "31. 50.3279431048301\n",
       "32. 50.1057400600769\n",
       "33. 47.9627646304421\n",
       "34. 51.0297309328888\n",
       "35. 48.9843342379004\n",
       "36. 49.729574439005\n",
       "37. 51.523585218763\n",
       "38. 49.9034063992867\n",
       "39. 51.2377997035514\n",
       "40. 50.4076889149759\n",
       "41. 49.973097761873\n",
       "42. 50.5902949568141\n",
       "43. 51.2337944047764\n",
       "44. 49.0564738653674\n",
       "45. 49.2754890863991\n",
       "46. 50.9692802383633\n",
       "47. 48.1346394119305\n",
       "48. 51.5007833995548\n",
       "49. 50.3532543608435\n",
       "50. 51.2355080864683\n",
       "\n",
       "\n"
      ],
      "text/plain": [
       " [1] 50.75628 50.40700 50.09122 50.73925 49.67451 50.45979 50.56263 51.54126\n",
       " [9] 47.02985 47.15805 51.27766 50.10424 50.04700 50.98516 49.40699 49.91290\n",
       "[17] 50.40291 50.51875 50.69895 48.61173 50.66398 51.93668 49.44109 52.12284\n",
       "[25] 49.87782 49.71577 49.98888 50.94355 49.30230 50.00424 50.32794 50.10574\n",
       "[33] 47.96276 51.02973 48.98433 49.72957 51.52359 49.90341 51.23780 50.40769\n",
       "[41] 49.97310 50.59029 51.23379 49.05647 49.27549 50.96928 48.13464 51.50078\n",
       "[49] 50.35325 51.23551"
      ]
     },
     "metadata": {},
     "output_type": "display_data"
    }
   ],
   "source": [
    "y = x+rnorm(50, mean=50, sd=.1)\n",
    "y"
   ]
  },
  {
   "cell_type": "markdown",
   "metadata": {},
   "source": [
    "Correlation between two vectors"
   ]
  },
  {
   "cell_type": "code",
   "execution_count": 28,
   "metadata": {},
   "outputs": [
    {
     "data": {
      "text/html": [
       "0.993568139181566"
      ],
      "text/latex": [
       "0.993568139181566"
      ],
      "text/markdown": [
       "0.993568139181566"
      ],
      "text/plain": [
       "[1] 0.9935681"
      ]
     },
     "metadata": {},
     "output_type": "display_data"
    }
   ],
   "source": [
    "cor(x,y)"
   ]
  },
  {
   "cell_type": "markdown",
   "metadata": {},
   "source": [
    "Setting the seed for 'controlled' randomness"
   ]
  },
  {
   "cell_type": "code",
   "execution_count": 29,
   "metadata": {},
   "outputs": [
    {
     "data": {
      "text/html": [
       "<ol class=list-inline>\n",
       "\t<li>-1.14397631447974</li>\n",
       "\t<li>1.34212936561501</li>\n",
       "\t<li>2.18539047574276</li>\n",
       "\t<li>0.536392517923731</li>\n",
       "\t<li>0.0631929664685468</li>\n",
       "\t<li>0.502234482468979</li>\n",
       "\t<li>-0.000416724686432643</li>\n",
       "\t<li>0.565819840539162</li>\n",
       "\t<li>-0.572522688962623</li>\n",
       "\t<li>-1.11022500727696</li>\n",
       "\t<li>-0.0486871233624514</li>\n",
       "\t<li>-0.695656217619366</li>\n",
       "\t<li>0.828917480303335</li>\n",
       "\t<li>0.206652855081802</li>\n",
       "\t<li>-0.235674509102427</li>\n",
       "\t<li>-0.556310491381104</li>\n",
       "\t<li>-0.364754357080585</li>\n",
       "\t<li>0.862355034263622</li>\n",
       "\t<li>-0.63077153536771</li>\n",
       "\t<li>0.313602125215739</li>\n",
       "\t<li>-0.931495317661393</li>\n",
       "\t<li>0.823867618473952</li>\n",
       "\t<li>0.523370702077482</li>\n",
       "\t<li>0.706921411979056</li>\n",
       "\t<li>0.420204325601679</li>\n",
       "\t<li>-0.269052154682033</li>\n",
       "\t<li>-1.51031729990999</li>\n",
       "\t<li>-0.69021247657504</li>\n",
       "\t<li>-0.143471952443572</li>\n",
       "\t<li>-1.0135274099044</li>\n",
       "\t<li>1.57327373614751</li>\n",
       "\t<li>0.0127465054882014</li>\n",
       "\t<li>0.872647049887217</li>\n",
       "\t<li>0.422066190530336</li>\n",
       "\t<li>-0.0188157916578866</li>\n",
       "\t<li>2.61574896890584</li>\n",
       "\t<li>-0.693140174826871</li>\n",
       "\t<li>-0.266321780991085</li>\n",
       "\t<li>-0.720636441231524</li>\n",
       "\t<li>1.36773420645149</li>\n",
       "\t<li>0.264007332160512</li>\n",
       "\t<li>0.632186807367191</li>\n",
       "\t<li>-1.33065098578719</li>\n",
       "\t<li>0.0268888182209596</li>\n",
       "\t<li>1.0406363207788</li>\n",
       "\t<li>1.31202379854711</li>\n",
       "\t<li>-0.0300020766733214</li>\n",
       "\t<li>-0.250025712488174</li>\n",
       "\t<li>0.0234144856913592</li>\n",
       "\t<li>1.65987065574227</li>\n",
       "</ol>\n"
      ],
      "text/latex": [
       "\\begin{enumerate*}\n",
       "\\item -1.14397631447974\n",
       "\\item 1.34212936561501\n",
       "\\item 2.18539047574276\n",
       "\\item 0.536392517923731\n",
       "\\item 0.0631929664685468\n",
       "\\item 0.502234482468979\n",
       "\\item -0.000416724686432643\n",
       "\\item 0.565819840539162\n",
       "\\item -0.572522688962623\n",
       "\\item -1.11022500727696\n",
       "\\item -0.0486871233624514\n",
       "\\item -0.695656217619366\n",
       "\\item 0.828917480303335\n",
       "\\item 0.206652855081802\n",
       "\\item -0.235674509102427\n",
       "\\item -0.556310491381104\n",
       "\\item -0.364754357080585\n",
       "\\item 0.862355034263622\n",
       "\\item -0.63077153536771\n",
       "\\item 0.313602125215739\n",
       "\\item -0.931495317661393\n",
       "\\item 0.823867618473952\n",
       "\\item 0.523370702077482\n",
       "\\item 0.706921411979056\n",
       "\\item 0.420204325601679\n",
       "\\item -0.269052154682033\n",
       "\\item -1.51031729990999\n",
       "\\item -0.69021247657504\n",
       "\\item -0.143471952443572\n",
       "\\item -1.0135274099044\n",
       "\\item 1.57327373614751\n",
       "\\item 0.0127465054882014\n",
       "\\item 0.872647049887217\n",
       "\\item 0.422066190530336\n",
       "\\item -0.0188157916578866\n",
       "\\item 2.61574896890584\n",
       "\\item -0.693140174826871\n",
       "\\item -0.266321780991085\n",
       "\\item -0.720636441231524\n",
       "\\item 1.36773420645149\n",
       "\\item 0.264007332160512\n",
       "\\item 0.632186807367191\n",
       "\\item -1.33065098578719\n",
       "\\item 0.0268888182209596\n",
       "\\item 1.0406363207788\n",
       "\\item 1.31202379854711\n",
       "\\item -0.0300020766733214\n",
       "\\item -0.250025712488174\n",
       "\\item 0.0234144856913592\n",
       "\\item 1.65987065574227\n",
       "\\end{enumerate*}\n"
      ],
      "text/markdown": [
       "1. -1.14397631447974\n",
       "2. 1.34212936561501\n",
       "3. 2.18539047574276\n",
       "4. 0.536392517923731\n",
       "5. 0.0631929664685468\n",
       "6. 0.502234482468979\n",
       "7. -0.000416724686432643\n",
       "8. 0.565819840539162\n",
       "9. -0.572522688962623\n",
       "10. -1.11022500727696\n",
       "11. -0.0486871233624514\n",
       "12. -0.695656217619366\n",
       "13. 0.828917480303335\n",
       "14. 0.206652855081802\n",
       "15. -0.235674509102427\n",
       "16. -0.556310491381104\n",
       "17. -0.364754357080585\n",
       "18. 0.862355034263622\n",
       "19. -0.63077153536771\n",
       "20. 0.313602125215739\n",
       "21. -0.931495317661393\n",
       "22. 0.823867618473952\n",
       "23. 0.523370702077482\n",
       "24. 0.706921411979056\n",
       "25. 0.420204325601679\n",
       "26. -0.269052154682033\n",
       "27. -1.51031729990999\n",
       "28. -0.69021247657504\n",
       "29. -0.143471952443572\n",
       "30. -1.0135274099044\n",
       "31. 1.57327373614751\n",
       "32. 0.0127465054882014\n",
       "33. 0.872647049887217\n",
       "34. 0.422066190530336\n",
       "35. -0.0188157916578866\n",
       "36. 2.61574896890584\n",
       "37. -0.693140174826871\n",
       "38. -0.266321780991085\n",
       "39. -0.720636441231524\n",
       "40. 1.36773420645149\n",
       "41. 0.264007332160512\n",
       "42. 0.632186807367191\n",
       "43. -1.33065098578719\n",
       "44. 0.0268888182209596\n",
       "45. 1.0406363207788\n",
       "46. 1.31202379854711\n",
       "47. -0.0300020766733214\n",
       "48. -0.250025712488174\n",
       "49. 0.0234144856913592\n",
       "50. 1.65987065574227\n",
       "\n",
       "\n"
      ],
      "text/plain": [
       " [1] -1.1439763145  1.3421293656  2.1853904757  0.5363925179  0.0631929665\n",
       " [6]  0.5022344825 -0.0004167247  0.5658198405 -0.5725226890 -1.1102250073\n",
       "[11] -0.0486871234 -0.6956562176  0.8289174803  0.2066528551 -0.2356745091\n",
       "[16] -0.5563104914 -0.3647543571  0.8623550343 -0.6307715354  0.3136021252\n",
       "[21] -0.9314953177  0.8238676185  0.5233707021  0.7069214120  0.4202043256\n",
       "[26] -0.2690521547 -1.5103172999 -0.6902124766 -0.1434719524 -1.0135274099\n",
       "[31]  1.5732737361  0.0127465055  0.8726470499  0.4220661905 -0.0188157917\n",
       "[36]  2.6157489689 -0.6931401748 -0.2663217810 -0.7206364412  1.3677342065\n",
       "[41]  0.2640073322  0.6321868074 -1.3306509858  0.0268888182  1.0406363208\n",
       "[46]  1.3120237985 -0.0300020767 -0.2500257125  0.0234144857  1.6598706557"
      ]
     },
     "metadata": {},
     "output_type": "display_data"
    }
   ],
   "source": [
    "set.seed(1303)\n",
    "rnorm(50)"
   ]
  },
  {
   "cell_type": "markdown",
   "metadata": {},
   "source": [
    "Mean and variance"
   ]
  },
  {
   "cell_type": "code",
   "execution_count": 30,
   "metadata": {},
   "outputs": [],
   "source": [
    "set.seed(3)"
   ]
  },
  {
   "cell_type": "code",
   "execution_count": 32,
   "metadata": {},
   "outputs": [
    {
     "data": {
      "text/html": [
       "0.0110355710943715"
      ],
      "text/latex": [
       "0.0110355710943715"
      ],
      "text/markdown": [
       "0.0110355710943715"
      ],
      "text/plain": [
       "[1] 0.01103557"
      ]
     },
     "metadata": {},
     "output_type": "display_data"
    }
   ],
   "source": [
    "y = rnorm(100)\n",
    "mean(y)"
   ]
  },
  {
   "cell_type": "code",
   "execution_count": 33,
   "metadata": {},
   "outputs": [
    {
     "data": {
      "text/html": [
       "0.732867501277449"
      ],
      "text/latex": [
       "0.732867501277449"
      ],
      "text/markdown": [
       "0.732867501277449"
      ],
      "text/plain": [
       "[1] 0.7328675"
      ]
     },
     "metadata": {},
     "output_type": "display_data"
    }
   ],
   "source": [
    "var(y)"
   ]
  },
  {
   "cell_type": "code",
   "execution_count": 34,
   "metadata": {},
   "outputs": [
    {
     "data": {
      "text/html": [
       "0.856076808047881"
      ],
      "text/latex": [
       "0.856076808047881"
      ],
      "text/markdown": [
       "0.856076808047881"
      ],
      "text/plain": [
       "[1] 0.8560768"
      ]
     },
     "metadata": {},
     "output_type": "display_data"
    }
   ],
   "source": [
    "sd(y)"
   ]
  },
  {
   "cell_type": "markdown",
   "metadata": {},
   "source": [
    "## Graphics"
   ]
  },
  {
   "cell_type": "code",
   "execution_count": 36,
   "metadata": {},
   "outputs": [
    {
     "data": {
      "image/png": "[encoded data removed]",
      "text/plain": [
       "plot without title"
      ]
     },
     "metadata": {},
     "output_type": "display_data"
    }
   ],
   "source": [
    "x = rnorm(100)\n",
    "y = rnorm(100)\n",
    "plot(x,y)"
   ]
  },
  {
   "cell_type": "code",
   "execution_count": 37,
   "metadata": {},
   "outputs": [
    {
     "data": {
      "image/png": "[encoded data removed]",
      "text/plain": [
       "Plot with title “ Plot of X vs Y”"
      ]
     },
     "metadata": {},
     "output_type": "display_data"
    }
   ],
   "source": [
    "plot(x,y,xlab=\" this is the x-axis\",ylab=\" this is the y-axis\",\n",
    "main=\" Plot of X vs Y\")"
   ]
  },
  {
   "cell_type": "code",
   "execution_count": null,
   "metadata": {},
   "outputs": [],
   "source": []
  }
 ],
 "metadata": {
  "kernelspec": {
   "display_name": "R",
   "language": "R",
   "name": "ir"
  },
  "language_info": {
   "codemirror_mode": "r",
   "file_extension": ".r",
   "mimetype": "text/x-r-source",
   "name": "R",
   "pygments_lexer": "r",
   "version": "3.6.1"
  }
 },
 "nbformat": 4,
 "nbformat_minor": 4
}
